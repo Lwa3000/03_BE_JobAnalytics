{
 "cells": [
  {
   "cell_type": "code",
   "execution_count": null,
   "metadata": {},
   "outputs": [],
   "source": [
    "# Dependencies\n",
    "import time\n",
    "from bs4 import BeautifulSoup\n",
    "import requests\n",
    "import pandas as pd\n",
    "import os"
   ]
  },
  {
   "cell_type": "code",
   "execution_count": null,
   "metadata": {},
   "outputs": [],
   "source": [
    "\n",
    "max_pages_city = 1\n",
    "city_search = ['New York', 'San Francisco']\n",
    "job_search = \"data+analyst\"\n",
    "\n",
    "url_list = [] # will hold list of urls for each job\n",
    "#search_city_list = [city_search[0]]*100 + [city_search[1]]*100 \n",
    "search_city_list= [city for city in city_search] * 10\n",
    "search_city_list.sort()\n",
    "print(search_city_list)"
   ]
  },
  {
   "cell_type": "code",
   "execution_count": 50,
   "metadata": {},
   "outputs": [
    {
     "name": "stdout",
     "output_type": "stream",
     "text": [
      "Done\n"
     ]
    }
   ],
   "source": [
    "for city in city_search:\n",
    "    for start in range(0, max_pages_city, 1):\n",
    "        search_url = \"http://www.indeed.com/jobs?q=\"+str(job_search)+\"&l=\"+str(city)+\"&start=\"+str(start)\n",
    "        results_page = requests.get(search_url)\n",
    "        #browser.visit(search_url)\n",
    "        time.sleep(2)  #ensuring at least 1 second between page grabs\n",
    "        #html = browser.html\n",
    "        soup = BeautifulSoup(results_page.text, \"html.parser\")\n",
    "\n",
    "        h2 = soup.find_all('h2', class_=\"jobtitle\")\n",
    "        for stuff in h2:\n",
    "            href = stuff.find('a')['href']\n",
    "            url = \"http://www.indeed.com/\"+str(href)\n",
    "            url_list.append(url)\n",
    "            \n",
    "print(\"Done\")"
   ]
  },
  {
   "cell_type": "code",
   "execution_count": 51,
   "metadata": {},
   "outputs": [
    {
     "name": "stdout",
     "output_type": "stream",
     "text": [
      "20\n"
     ]
    }
   ],
   "source": [
    "print(len(url_list))"
   ]
  },
  {
   "cell_type": "code",
   "execution_count": 52,
   "metadata": {},
   "outputs": [],
   "source": [
    "job_company = []\n",
    "job_desc = []\n",
    "job_location = []\n",
    "job_title = []\n",
    "job_salary = []\n",
    "job_url = []\n"
   ]
  },
  {
   "cell_type": "code",
   "execution_count": null,
   "metadata": {},
   "outputs": [],
   "source": [
    "for url in url_list:\n",
    "\n",
    "    job_page = requests.get(url)\n",
    "        #browser.visit(url)\n",
    "    time.sleep(2) \n",
    "        #job_page_html = browser.html\n",
    "    job_soup = BeautifulSoup(job_page.text, \"html.parser\")\n",
    "         \n",
    "    title=company=location=job_summary=\"\"\n",
    "        \n",
    "    title_object = job_soup.find(\"b\", class_=\"jobtitle\")\n",
    "    if title_object is not None:\n",
    "        title = title_object.text\n",
    "    job_title.append(title)\n",
    "\n",
    "    company_object = job_soup.find(\"span\", class_=\"company\")\n",
    "    if company_object is not None:\n",
    "        company = company_object.text\n",
    "    job_company.append(company)\n",
    "\n",
    "    location_object = job_soup.find(\"span\", class_=\"location\")\n",
    "    if location_object is not None:\n",
    "        location = location_object.text\n",
    "    job_location.append(location)\n",
    "\n",
    "    job_summary_object = job_soup.find(\"span\", id=\"job_summary\")\n",
    "    if job_summary_object is not None:\n",
    "        job_summary = job_summary_object.get_text(strip=False)\n",
    "    job_desc.append(job_summary)\n",
    "    \n",
    "    job_url.append(url)\n",
    "\n",
    "\n",
    "print(len(job_title))\n",
    "print(len(job_desc))\n",
    "print(len(job_location))\n",
    "print(len(job_company))\n",
    "print(len(job_url))\n",
    "print(len(search_city_list))"
   ]
  },
  {
   "cell_type": "code",
   "execution_count": null,
   "metadata": {},
   "outputs": [],
   "source": [
    "example_df = pd.DataFrame({\"Title\": job_title,\n",
    "                           \"Company\": job_company,\n",
    "                           \"Location\": job_location,\n",
    "                           \"Description\": job_desc,\n",
    "                           #\"Salary\" : job_salary\n",
    "                           \"Link\": job_url,\n",
    "                           \"Search_City\": search_city_list})\n",
    "\n",
    "example_df = example_df[[\"Title\",\"Company\", \"Location\",\"Description\", \"Search_City\", \"Link\"]]"
   ]
  },
  {
   "cell_type": "code",
   "execution_count": null,
   "metadata": {},
   "outputs": [],
   "source": [
    "example_df.head()"
   ]
  },
  {
   "cell_type": "code",
   "execution_count": null,
   "metadata": {},
   "outputs": [],
   "source": [
    "# Save to new csv file\n",
    "output = os.path.join('..', '03_Data', 'Job_Data.csv')\n",
    "print(output)\n",
    "example_df.to_csv(output, header=True, index=True )"
   ]
  },
  {
   "cell_type": "code",
   "execution_count": null,
   "metadata": {},
   "outputs": [],
   "source": [
    "# Extract only columns 0, 1, 2, 3, 4, 7, 8, 9, 10,11, 29, 30, 32, 36, 37, 45, 48, 56, 110, 111 \n",
    "reduced_coders_pd = new_coders_pd.iloc[:,[0,1,2,3,4,6,7,8,9,10,11,29,30,32,36, 37, 45, 48, 56, 110, 111]]\n",
    "reduced_coders_pd.head()"
   ]
  }
 ],
 "metadata": {
  "kernelspec": {
   "display_name": "Python [PythonData]",
   "language": "python",
   "name": "pythondata"
  },
  "language_info": {
   "codemirror_mode": {
    "name": "ipython",
    "version": 3
   },
   "file_extension": ".py",
   "mimetype": "text/x-python",
   "name": "python",
   "nbconvert_exporter": "python",
   "pygments_lexer": "ipython3",
   "version": "3.6.4"
  }
 },
 "nbformat": 4,
 "nbformat_minor": 2
}
