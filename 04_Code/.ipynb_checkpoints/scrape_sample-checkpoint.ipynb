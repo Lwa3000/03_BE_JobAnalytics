{
 "cells": [
  {
   "cell_type": "code",
   "execution_count": 46,
   "metadata": {},
   "outputs": [],
   "source": [
    "# Dependencies\n",
    "import time\n",
    "from splinter import Browser\n",
    "from bs4 import BeautifulSoup\n",
    "import requests\n",
    "import pandas as pd\n",
    "from selenium import webdriver"
   ]
  },
  {
   "cell_type": "code",
   "execution_count": 47,
   "metadata": {},
   "outputs": [],
   "source": [
    "\n",
    "def init_browser():\n",
    "    # @NOTE: Replace the path with your actual path to the chromedriver\n",
    "    executable_path = {\"executable_path\": \"/usr/local/bin/chromedriver\"}\n",
    "    return Browser(\"chrome\", **executable_path, headless=False)\n"
   ]
  },
  {
   "cell_type": "code",
   "execution_count": 48,
   "metadata": {},
   "outputs": [
    {
     "name": "stdout",
     "output_type": "stream",
     "text": [
      "data+analyst\n"
     ]
    }
   ],
   "source": [
    "browser = init_browser()\n",
    "max_results_per_city = 20\n",
    "city_search = ['New%20York', 'San%20Francisco']\n",
    "job_search = \"data+analyst\"\n",
    "\n",
    "url_list = [] # will hold list of urls for each job\n",
    "print(job_search)"
   ]
  },
  {
   "cell_type": "code",
   "execution_count": 49,
   "metadata": {},
   "outputs": [
    {
     "name": "stdout",
     "output_type": "stream",
     "text": [
      "Done\n"
     ]
    }
   ],
   "source": [
    "for city in city_search:\n",
    "    for start in range(0, max_results_per_city, 10):\n",
    "        search_url = \"http://www.indeed.com/jobs?q=\"+str(job_search)+\"&l=\"+str(city)+\"&start=\"+str(start)\n",
    "        results_page = requests.get(search_url)\n",
    "        #browser.visit(search_url)\n",
    "        time.sleep(2)  #ensuring at least 1 second between page grabs\n",
    "        #html = browser.html\n",
    "        soup = BeautifulSoup(results_page.text, \"html.parser\")\n",
    "\n",
    "        h2 = soup.find_all('h2', class_=\"jobtitle\")\n",
    "        for stuff in h2:\n",
    "            href = stuff.find('a')['href']\n",
    "            url = \"http://www.indeed.com/\"+str(href)\n",
    "            url_list.append(url)\n",
    "print(\"Done\")"
   ]
  },
  {
   "cell_type": "code",
   "execution_count": 44,
   "metadata": {},
   "outputs": [],
   "source": [
    "job_company = []\n",
    "job_desc = []\n",
    "job_location = []\n",
    "job_title = []"
   ]
  },
  {
   "cell_type": "code",
   "execution_count": 45,
   "metadata": {},
   "outputs": [
    {
     "name": "stdout",
     "output_type": "stream",
     "text": [
      "[]\n",
      "[]\n",
      "[]\n",
      "[]\n"
     ]
    }
   ],
   "source": [
    "for url in url_list:\n",
    "    try:\n",
    "        job_page = requests.get(url)\n",
    "        #browser.visit(url)\n",
    "        time.sleep(2) \n",
    "        #job_page_html = browser.html\n",
    "        job_soup = BeautifulSoup(job_page.text, \"html.parser\")\n",
    "         \n",
    "        title, company, location, job_summary = \"\"\n",
    "        \n",
    "        title_object = job_soup.find(\"b\", class_=\"jobtitle\")\n",
    "        if title_object is not None:\n",
    "            title = title_object.text\n",
    "        job_title.append(title)\n",
    "\n",
    "        company_object = job_soup.find(\"span\", class_=\"company\")\n",
    "        if company_object is not None:\n",
    "            company = company_object.text\n",
    "        job_company.append(company)\n",
    "\n",
    "        location_object = job_soup.find(\"span\", class_=\"location\")\n",
    "        if location_object is not None:\n",
    "            location = location_object.text\n",
    "        job_location.append(location)\n",
    "\n",
    "        job_summary_object = job_soup.find(\"span\", id=\"job_summary\")\n",
    "        if job_summary_object is not None:\n",
    "            job_summary = job_summary_object.get_text(strip=True)\n",
    "        job_desc.append(job_summary)\n",
    "    except:\n",
    "        continue\n",
    "\n",
    "print(job_title)\n",
    "print(job_desc)\n",
    "print(job_location)\n",
    "print(job_company)"
   ]
  },
  {
   "cell_type": "code",
   "execution_count": null,
   "metadata": {},
   "outputs": [],
   "source": [
    "example_df = pd.DataFrame({\"title\": job_title,\n",
    "                           \"company\": job_company,\n",
    "                           \"location\": job_location,\n",
    "                           \"description\": job_desc})"
   ]
  },
  {
   "cell_type": "code",
   "execution_count": null,
   "metadata": {},
   "outputs": [],
   "source": [
    "example_df.head()"
   ]
  },
  {
   "cell_type": "code",
   "execution_count": null,
   "metadata": {},
   "outputs": [],
   "source": []
  },
  {
   "cell_type": "code",
   "execution_count": null,
   "metadata": {},
   "outputs": [],
   "source": []
  }
 ],
 "metadata": {
  "kernelspec": {
   "display_name": "Python [PythonData]",
   "language": "python",
   "name": "pythondata"
  },
  "language_info": {
   "codemirror_mode": {
    "name": "ipython",
    "version": 3
   },
   "file_extension": ".py",
   "mimetype": "text/x-python",
   "name": "python",
   "nbconvert_exporter": "python",
   "pygments_lexer": "ipython3",
   "version": "3.6.4"
  }
 },
 "nbformat": 4,
 "nbformat_minor": 2
}
